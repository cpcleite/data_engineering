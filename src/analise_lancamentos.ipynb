{
 "cells": [
  {
   "cell_type": "code",
   "execution_count": 1,
   "source": [
    "import numpy as np\r\n",
    "import pandas as pd\r\n",
    "import matplotlib as mpl\r\n",
    "import matplotlib.pyplot as plt\r\n",
    "import matplotlib.lines as line\r\n",
    "\r\n",
    "PATH_N = 'C:\\\\Users\\\\cpcle\\\\OneDrive\\\\Documentos\\\\Celso\\\\Python\\\\veneta-dash\\\\data\\\\'\r\n",
    "PATH_C = 'C:\\\\Users\\\\cpcle\\\\OneDrive\\\\Documentos\\\\Celso\\\\Veneta\\\\Dados Winbooks\\\\Despesas e Custos\\\\'\r\n",
    "PATH = 'C:\\\\Users\\\\cpcle\\\\OneDrive\\\\Documentos\\\\Celso\\\\Veneta\\\\Dados Winbooks\\\\Estoques\\\\'\r\n",
    "\r\n",
    "# Le arquivo de Movimentos Access (Notas)\r\n",
    "notas = pd.read_pickle(PATH_N + 'Notas.pkl')\r\n",
    "\r\n",
    "# Separa vendas do primeiro mês\r\n",
    "aux = notas[(notas['Produto'] > '9') & (notas['Produto'] < 'A')].groupby(['Produto', pd.Grouper(\r\n",
    "    key='Emissao', freq='MS')]).aggregate({'Vendas': sum}).reset_index()\r\n",
    "aux = aux[aux['Vendas'] > 0]\r\n",
    "\r\n",
    "final = aux.loc[aux.groupby(\r\n",
    "    'Produto')['Emissao'].idxmin()].set_index('Produto')\r\n",
    "\r\n",
    "final.columns = ['Lancamento', 'Vendas_1M']\r\n",
    "\r\n",
    "# Define limite dos acumulados\r\n",
    "ultimo_mes = aux['Emissao'].max()\r\n",
    "limite = {1: ultimo_mes + pd.offsets.MonthBegin(1),\r\n",
    "          4: ultimo_mes + pd.offsets.MonthBegin(-3),\r\n",
    "          6: ultimo_mes + pd.offsets.MonthBegin(-6),\r\n",
    "          12: ultimo_mes + pd.offsets.MonthBegin(-12), }\r\n",
    "\r\n",
    "def filtra_meses(meses, coluna):\r\n",
    "    \"\"\"Calcula soma acumulada dos meses.\r\n",
    "\r\n",
    "    Parameters\r\n",
    "    ----------\r\n",
    "    notas : pandas.DataFrame\r\n",
    "        DataFrame dos movimentos (notas)\r\n",
    "    meses : int\r\n",
    "        Quantidades de meses a acumular a partir do lançamento\r\n",
    "    coluna : str\r\n",
    "        Nome da coluna a acumular (Vendas, Estoque Terceiros, Estoque Veneta)\r\n",
    "\r\n",
    "    Returns\r\n",
    "    -------\r\n",
    "    pandas.Series\r\n",
    "        Soma acumulada a partir do lançamento, por produto\r\n",
    "    \"\"\"\r\n",
    "    aux = notas[['Produto', coluna, 'Emissao']].copy()\r\n",
    "    aux = aux.merge(final['Lancamento'], how='inner', on='Produto')\r\n",
    "    aux['data_fin'] = aux['Lancamento'] + pd.offsets.MonthBegin(meses)\r\n",
    "    aux = aux.loc[(aux['Emissao'] < aux['data_fin']) &\r\n",
    "                  (aux['Lancamento'] < limite[meses])]\r\n",
    "    return aux.groupby('Produto')[coluna].sum()\r\n",
    "\r\n",
    "\r\n",
    "def estoque_medio(meses, coluna):\r\n",
    "    \"\"\"Calcula estoque médio nos primeiros meses, a partir do lançamento.\r\n",
    "\r\n",
    "    Parameters\r\n",
    "    ----------\r\n",
    "    notas : pandas.DataFrame\r\n",
    "        DataFrame dos movimentos (notas)\r\n",
    "    meses : int\r\n",
    "        Quantidades de meses a calcular a média a partir do lançamento\r\n",
    "    coluna : str\r\n",
    "        Nome da coluna a calcular a média (Estoque Terceiros, Estoque Veneta)\r\n",
    "\r\n",
    "    Returns\r\n",
    "    -------\r\n",
    "    pandas.Series\r\n",
    "        Média do estoque a partir do lançamento\r\n",
    "    \"\"\"\r\n",
    "    aux = notas[['Produto', coluna, 'Emissao']].copy()\r\n",
    "    aux = aux.merge(final['Lancamento'], how='inner', on='Produto')\r\n",
    "    aux['data_fin'] = aux['Lancamento'] + pd.offsets.MonthBegin(meses)\r\n",
    "    aux = aux.loc[(aux['Emissao'] < aux['data_fin']) &\r\n",
    "                  (aux['Lancamento'] < limite[meses])]\r\n",
    "    aux['CUMSUM'] = aux.groupby(\r\n",
    "        ['Produto', pd.Grouper(key='Emissao', freq='MS')]).cumsum()\r\n",
    "    return aux.groupby('Produto')['CUMSUM'].mean()\r\n",
    "\r\n",
    "\r\n",
    "# Inclui vendas e consignações nos primeros meses\r\n",
    "final['Vendas_4M'] = filtra_meses(4, 'Vendas')\r\n",
    "final['Vendas_6M'] = filtra_meses(6, 'Vendas')\r\n",
    "final['Vendas_12M'] = filtra_meses(12, 'Vendas')\r\n",
    "\r\n",
    "final['Cons_4M'] = estoque_medio(4, 'Estoque Terceiros')\r\n",
    "final['Cons_6M'] = estoque_medio(6, 'Estoque Terceiros')\r\n",
    "final['Cons_12M'] = estoque_medio(12, 'Estoque Terceiros')\r\n",
    "\r\n",
    "# Inclui Título da Publicação\r\n",
    "# Lê Cadastro de Produtos\r\n",
    "aux = pd.read_excel(PATH_C + 'Cadastro de Produtos.xlsx',\r\n",
    "                     header=None, names=['Produto', 'Titulo'], skiprows=1, usecols='A,D', dtype=str).dropna().set_index('Produto')\r\n",
    "\r\n",
    "final = pd.concat([final, aux], join='outer', axis=1)\r\n",
    "\r\n",
    "# Inclui Tiragens e Custo de Produção\r\n",
    "# Lê arquivo da Produção\r\n",
    "pro = pd.read_excel(PATH + 'Custos de Produção - Celso.xlsx',\r\n",
    "                    sheet_name=\"Tiragens\", usecols=\"A:E\",\r\n",
    "                    header=0, parse_dates=['Data'], na_values=[None], dtype={'ISBN': str, 'Título': str, 'Custo': float, 'Tiragem': int})\r\n",
    "\r\n",
    "# Separa Tiragem Inicial, Tiragem Total e Custo Total\r\n",
    "aux = pro.groupby('ISBN').aggregate(\r\n",
    "    {'Data': min, 'Tiragem': sum, 'Custo': sum})\r\n",
    "aux['Data'] = aux['Data'] + pd.offsets.MonthBegin(2)\r\n",
    "aux.rename({'Data': 'Data_lim', 'Tiragem': 'Tiragem Total',\r\n",
    "            'Custo': 'Custo Total'},\r\n",
    "           axis=1, inplace=True)\r\n",
    "\r\n",
    "aux = pro.merge(aux, how='left', on='ISBN')\r\n",
    "\r\n",
    "# Calcula Tiragem nos primeiros dois meses\r\n",
    "aux = aux.loc[aux['Data'] < aux['Data_lim']].groupby(\r\n",
    "    'ISBN').aggregate({'Tiragem': sum, 'Tiragem Total': 'first', 'Custo Total': 'first'})\r\n",
    "\r\n",
    "final = pd.concat([final, aux], join='outer', axis=1).dropna(\r\n",
    "    subset=['Lancamento'], axis=0)\r\n",
    "\r\n",
    "# Calcula Venda Total\r\n",
    "aux = notas.groupby('Produto')['Vendas'].sum()\r\n",
    "final = pd.concat([final, aux], join='outer', axis=1).dropna(\r\n",
    "    subset=['Lancamento'], axis=0)\r\n",
    "final.rename({'Vendas': 'Vendas Totais'}, axis=1, inplace=True)\r\n",
    "\r\n",
    "# Calcula Quantidade de Meses de Vendas\r\n",
    "final['Meses'] = (ultimo_mes.year - final['Lancamento'].dt.year) * \\\r\n",
    "    12 + (ultimo_mes.month - final['Lancamento'].dt.month) + 1\r\n",
    "final['Custo Unitário'] = final['Custo Total'] / final['Tiragem Total']\r\n",
    "\r\n",
    "# Inclui Saldos Finais (Veneta, Terceiros, Eventos)\r\n",
    "# Lê o arquivo do histórico dos produtos (saldo_historico_dia)\r\n",
    "his = pd.read_csv(PATH + 'saldo_historico_dia.csv', header=0, sep=',',\r\n",
    "                  index_col=0, dtype={'Produto': str, 'Saldo_V': int, 'Saldo_T': int, 'Saldo_E': int}, parse_dates=['Emissao'])\r\n",
    "\r\n",
    "# Pega saldo final\r\n",
    "aux = (ultimo_mes + pd.offsets.MonthBegin(1)).strftime('%Y-%m')\r\n",
    "his = his.loc[his[his['Emissao'] < aux].groupby('Produto')['Emissao'].idxmax()]\r\n",
    "\r\n",
    "# Inclui Código do Produto (ISBN)\r\n",
    "cad = pd.read_excel(PATH_C + 'Cadastro de Produtos.xlsx', sheet_name='Cadastro',\r\n",
    "                    usecols='A,B', header=0, dtype=str).dropna().rename({'Título WB': 'Produto'}, axis=1)\r\n",
    "\r\n",
    "his = his.merge(cad, how='left', on='Produto')[\r\n",
    "    ['ISBN', 'Saldo_V', 'Saldo_T', 'Saldo_E']].dropna().set_index('ISBN')\r\n",
    "\r\n",
    "final = pd.concat([final, his], join='outer', axis=1).dropna(\r\n",
    "    subset=['Lancamento'], axis=0)\r\n",
    "\r\n",
    "# Inclui coluna de Perdas\r\n",
    "final['Perda'] = final['Tiragem Total'] - final['Vendas Totais'] - \\\r\n",
    "    final['Saldo_V'] - final['Saldo_T'] - final['Saldo_E']\r\n",
    "    \r\n",
    "# Calcula Estoques e Vendas Consignados\r\n",
    "CFOP_CONS = ['1918', '2918', '5918', '6917']\r\n",
    "CFOP_VENDA = ['5114', '5119', '6114', '6119']\r\n",
    "\r\n",
    "\r\n",
    "def estoque_cons(dados, meses):\r\n",
    "    df = dados.reset_index(level=1)\r\n",
    "    df = df.merge(final['Lancamento'] + pd.offsets.MonthBegin(meses),\r\n",
    "                  how='inner', left_index=True, right_index=True, validate='many_to_one')\r\n",
    "    df = df.loc[(df['Emissao'] < df['Lancamento']) &\r\n",
    "                (df['Lancamento'] < limite[meses])].groupby(level=0).sum().rename(\r\n",
    "        {'Estoque Terceiros': 'Est_Cons_{}M'.format(meses)}, axis=1)\r\n",
    "    return df\r\n",
    "\r\n",
    "\r\n",
    "def venda_cons(dados, meses):\r\n",
    "    df = dados.reset_index(level=1)\r\n",
    "    df = df.merge(final['Lancamento'] + pd.offsets.MonthBegin(meses),\r\n",
    "                  how='inner', left_index=True, right_index=True, validate='many_to_one')\r\n",
    "    df = df.loc[(df['Emissao'] < df['Lancamento']) &\r\n",
    "                (df['Lancamento'] < limite[meses])].groupby(\r\n",
    "        level=0).sum().rename({'Vendas': 'Ven_Cons_{}M'.format(meses)}, axis=1)\r\n",
    "    return df\r\n",
    "\r\n",
    "\r\n",
    "# Pega envios líquidos de consignação\r\n",
    "aux = notas[(notas['Produto'] > '9') &\r\n",
    "            (notas['Produto'] < 'A') &\r\n",
    "            (notas['Estoque Terceiros'] == - notas['Estoque Veneta'])].groupby(\r\n",
    "    ['Produto', pd.Grouper(key='Emissao', freq='MS')])['Estoque Terceiros'].sum()\r\n",
    "\r\n",
    "final = pd.concat([final, estoque_cons(aux, 1)], axis=1)\r\n",
    "final = pd.concat([final, estoque_cons(aux, 4)], axis=1)\r\n",
    "final = pd.concat([final, estoque_cons(aux, 12)], axis=1)\r\n",
    "\r\n",
    "# Pega Vendas de Consignação\r\n",
    "aux = notas[(notas['Produto'] > '9') &\r\n",
    "            (notas['Produto'] < 'A') &\r\n",
    "            (notas['Estoque Terceiros'] == - notas['Vendas'])].groupby(\r\n",
    "    ['Produto', pd.Grouper(key='Emissao', freq='MS')])['Vendas'].sum()\r\n",
    "\r\n",
    "final = pd.concat([final, venda_cons(aux, 1)], axis=1)\r\n",
    "final = pd.concat([final, venda_cons(aux, 4)], axis=1)\r\n",
    "final = pd.concat([final, venda_cons(aux, 12)], axis=1)\r\n",
    "\r\n",
    "# final[['Titulo', 'Lancamento', 'Tiragem', 'Vendas_1M', 'Vendas_4M',\r\n",
    "#        'Vendas_6M', 'Vendas_12M', 'Cons_4M', 'Cons_6M', 'Cons_12M',\r\n",
    "#        'Tiragem Total', 'Vendas Totais', 'Meses', 'Saldo_V', 'Saldo_T',\r\n",
    "#        'Saldo_E', 'Perda', 'Custo Unitário', 'Est_Cons_1M', 'Est_Cons_4M', 'Est_Cons_12M', 'Ven_Cons_1M', 'Ven_Cons_4M', 'Ven_Cons_12M']].sort_values(by=['Lancamento', 'Vendas_1M'], ascending=[True, False]).to_excel(PATH + 'final.xlsx')\r\n"
   ],
   "outputs": [],
   "metadata": {}
  },
  {
   "cell_type": "markdown",
   "source": [
    "# Distribuições de Vendas\r\n",
    "\r\n",
    "\\* Excluindo-se os livros digitais e os títulos do projeto PNLD"
   ],
   "metadata": {}
  },
  {
   "cell_type": "markdown",
   "source": [
    "## Distribuição das Vendas no Primeiro Mês\r\n",
    "<br>"
   ],
   "metadata": {}
  },
  {
   "cell_type": "code",
   "execution_count": 2,
   "source": [
    "# Histograma Vendas no Primeiro Mês\r\n",
    "PNLD = ['9788595710290', '9788595710283', '9788595710313',\r\n",
    "        '9788595710474', '9788595710481', '9788595710498']\r\n",
    "\r\n",
    "filtro = ~(final.index.isin(PNLD) |\r\n",
    "           final['Titulo'].str.contains('e-?book|e-?pub', case=False))\r\n",
    "\r\n",
    "x = final.loc[filtro, 'Vendas_1M'].astype(int)\r\n",
    "\r\n",
    "a = x.describe()\r\n",
    "\r\n",
    "print('Quantidade de Títulos:' + (25*' ') +\r\n",
    "      '{:9,.0f}'.format(a[0]).replace(',', '.'))\r\n",
    "print('Média de exemplares vendidos no primeiro mês:  ' +\r\n",
    "      '{:9,.0f}'.format(a[1]).replace(',', '.'))\r\n",
    "print('Menor venda no primeiro mês:' + (19*' ') +\r\n",
    "      '{:9,.0f}'.format(a[3]).replace(',', '.'))\r\n",
    "print('Primeiro Quartil (25%):' + (24*' ') +\r\n",
    "      '{:9,.0f}'.format(a[4]).replace(',', '.'))\r\n",
    "print('Segundo  Quartil (50%):' + (24*' ') +\r\n",
    "      '{:9,.0f}'.format(a[5]).replace(',', '.'))\r\n",
    "print('Terceiro Quartil (75%):' + (24*' ') +\r\n",
    "      '{:9,.0f}'.format(a[6]).replace(',', '.'))\r\n",
    "print('Maior Venda no primeiro mês:' + (19*' ') +\r\n",
    "      '{:9,.0f}'.format(a[7]).replace(',', '.'))\r\n"
   ],
   "outputs": [
    {
     "output_type": "stream",
     "name": "stdout",
     "text": [
      "Quantidade de Títulos:                               158\n",
      "Média de exemplares vendidos no primeiro mês:        361\n",
      "Menor venda no primeiro mês:                           1\n",
      "Primeiro Quartil (25%):                               76\n",
      "Segundo  Quartil (50%):                              194\n",
      "Terceiro Quartil (75%):                              414\n",
      "Maior Venda no primeiro mês:                       4.513\n"
     ]
    }
   ],
   "metadata": {}
  },
  {
   "cell_type": "markdown",
   "source": [
    "<br>"
   ],
   "metadata": {}
  },
  {
   "cell_type": "code",
   "execution_count": 3,
   "source": [
    "plt.style.use('seaborn-whitegrid')\r\n",
    "\r\n",
    "fig = plt.figure(figsize=(12, 6))\r\n",
    "\r\n",
    "ax1 = fig.add_subplot(12, 12, (1, 93))\r\n",
    "\r\n",
    "n, val, _ = ax1.hist(x, range=(0, 1000), bins=20)\r\n",
    "\r\n",
    "# Valores de cada bin\r\n",
    "for txt, pos in zip(n, val):\r\n",
    "    ax1.text(pos + 11, txt+1, '{:3,.0f}'.format(txt))\r\n",
    "ax1.set_ylim([0, 30])\r\n",
    "ax1.set_xlim([0, 1000])\r\n",
    "ax1.set_title('Histograma das Vendas no Primeiro Mês')\r\n",
    "ax1.set_ylabel('Quantidade de Títulos')\r\n",
    "\r\n",
    "ax2 = fig.add_subplot(12, 12, (109, 129))\r\n",
    "\r\n",
    "ax2.boxplot(x, vert=False)\r\n",
    "ax2.set_xlim([0, 1000])\r\n",
    "ax2.set_xlabel('Exemplares Vendidos no Primeiro Mês')\r\n",
    "ax2.tick_params(\r\n",
    "    axis='y',           # changes apply to the y-axis\r\n",
    "    which='both',       # both major and minor ticks are affected\r\n",
    "    left=False,         # ticks along the left edge are off\r\n",
    "    right=False,        # ticks along the right edge are off\r\n",
    "    labelleft=False)  # labels along the left edge are off\r\n",
    "\r\n",
    "ax3 = fig.add_subplot(12, 12, (11, 144))\r\n",
    "\r\n",
    "ax3.boxplot(x)\r\n",
    "ax3.set_ylabel('Vendas no Primeiro Mês')\r\n",
    "ax3.set_title('Vendas_1M')\r\n",
    "ax3.tick_params(\r\n",
    "    axis='x',           # changes apply to the x-axis\r\n",
    "    which='both',       # both major and minor ticks are affected\r\n",
    "    bottom=False,       # ticks along the bottom edge are off\r\n",
    "    top=False,          # ticks along the top edge are off\r\n",
    "    labelbottom=False)  # labels along the bottom edge are off\r\n",
    "\r\n",
    "plt.show()"
   ],
   "outputs": [
    {
     "output_type": "display_data",
     "data": {
      "image/png": "[encoded data removed]",
      "text/plain": [
       "<Figure size 864x432 with 3 Axes>"
      ]
     },
     "metadata": {}
    }
   ],
   "metadata": {}
  },
  {
   "cell_type": "markdown",
   "source": [
    "<br>"
   ],
   "metadata": {}
  },
  {
   "cell_type": "markdown",
   "source": [
    "\r\n",
    "#### Títulos fora da curva:"
   ],
   "metadata": {}
  },
  {
   "cell_type": "code",
   "execution_count": 4,
   "source": [
    "aux = a['50%'] + 1.5*(a['75%'] - a['25%'])\r\n",
    "\r\n",
    "aux = final.loc[filtro & (final['Vendas_1M'] > aux),\r\n",
    "                ['Titulo', 'Vendas_1M']\r\n",
    "                ].sort_values('Vendas_1M', ascending=False)\\\r\n",
    "    .reset_index()\r\n",
    "pd.set_option('display.max_colwidth', 40)\r\n",
    "aux.columns = ['ISBN', 'Título', 'Vendas']\r\n",
    "aux['Vendas'] = aux['Vendas'].map(\r\n",
    "    lambda x: '{:7,.0f}'.format(x).replace(',', '.'))\r\n",
    "aux.style.hide_index()\r\n"
   ],
   "outputs": [
    {
     "output_type": "execute_result",
     "data": {
      "text/html": [
       "<style type=\"text/css\">\n",
       "</style>\n",
       "<table id=\"T_5acac_\">\n",
       "  <thead>\n",
       "    <tr>\n",
       "      <th class=\"col_heading level0 col0\" >ISBN</th>\n",
       "      <th class=\"col_heading level0 col1\" >Título</th>\n",
       "      <th class=\"col_heading level0 col2\" >Vendas</th>\n",
       "    </tr>\n",
       "  </thead>\n",
       "  <tbody>\n",
       "    <tr>\n",
       "      <td id=\"T_5acac_row0_col0\" class=\"data row0 col0\" >9788595710702</td>\n",
       "      <td id=\"T_5acac_row0_col1\" class=\"data row0 col1\" >BERLIM</td>\n",
       "      <td id=\"T_5acac_row0_col2\" class=\"data row0 col2\" >  4.513</td>\n",
       "    </tr>\n",
       "    <tr>\n",
       "      <td id=\"T_5acac_row1_col0\" class=\"data row1 col0\" >9788563137685</td>\n",
       "      <td id=\"T_5acac_row1_col1\" class=\"data row1 col1\" >Educacao Sob Ataque. Resistencia E Luta Dos Educadores No Parana</td>\n",
       "      <td id=\"T_5acac_row1_col2\" class=\"data row1 col2\" >  3.033</td>\n",
       "    </tr>\n",
       "    <tr>\n",
       "      <td id=\"T_5acac_row2_col0\" class=\"data row2 col0\" >9788563137289</td>\n",
       "      <td id=\"T_5acac_row2_col1\" class=\"data row2 col1\" >Do Inferno</td>\n",
       "      <td id=\"T_5acac_row2_col2\" class=\"data row2 col2\" >  2.458</td>\n",
       "    </tr>\n",
       "    <tr>\n",
       "      <td id=\"T_5acac_row3_col0\" class=\"data row3 col0\" >9786586691405</td>\n",
       "      <td id=\"T_5acac_row3_col1\" class=\"data row3 col1\" >PALESTINA</td>\n",
       "      <td id=\"T_5acac_row3_col2\" class=\"data row3 col2\" >  2.360</td>\n",
       "    </tr>\n",
       "    <tr>\n",
       "      <td id=\"T_5acac_row4_col0\" class=\"data row4 col0\" >9788563137319</td>\n",
       "      <td id=\"T_5acac_row4_col1\" class=\"data row4 col1\" >Caravaggio - A Morte da Virgem</td>\n",
       "      <td id=\"T_5acac_row4_col2\" class=\"data row4 col2\" >  1.935</td>\n",
       "    </tr>\n",
       "    <tr>\n",
       "      <td id=\"T_5acac_row5_col0\" class=\"data row5 col0\" >9788595710740</td>\n",
       "      <td id=\"T_5acac_row5_col1\" class=\"data row5 col1\" >MAU CAMINHO</td>\n",
       "      <td id=\"T_5acac_row5_col2\" class=\"data row5 col2\" >  1.447</td>\n",
       "    </tr>\n",
       "    <tr>\n",
       "      <td id=\"T_5acac_row6_col0\" class=\"data row6 col0\" >9788595710368</td>\n",
       "      <td id=\"T_5acac_row6_col1\" class=\"data row6 col1\" >O Perfeito Estranho</td>\n",
       "      <td id=\"T_5acac_row6_col2\" class=\"data row6 col2\" >  1.368</td>\n",
       "    </tr>\n",
       "    <tr>\n",
       "      <td id=\"T_5acac_row7_col0\" class=\"data row7 col0\" >9788595710153</td>\n",
       "      <td id=\"T_5acac_row7_col1\" class=\"data row7 col1\" >Ayako</td>\n",
       "      <td id=\"T_5acac_row7_col2\" class=\"data row7 col2\" >  1.363</td>\n",
       "    </tr>\n",
       "    <tr>\n",
       "      <td id=\"T_5acac_row8_col0\" class=\"data row8 col0\" >9788595710146</td>\n",
       "      <td id=\"T_5acac_row8_col1\" class=\"data row8 col1\" >Diastrofismo Humano</td>\n",
       "      <td id=\"T_5acac_row8_col2\" class=\"data row8 col2\" >  1.068</td>\n",
       "    </tr>\n",
       "    <tr>\n",
       "      <td id=\"T_5acac_row9_col0\" class=\"data row9 col0\" >9788595710696</td>\n",
       "      <td id=\"T_5acac_row9_col1\" class=\"data row9 col1\" >SABRINA</td>\n",
       "      <td id=\"T_5acac_row9_col2\" class=\"data row9 col2\" >  1.037</td>\n",
       "    </tr>\n",
       "    <tr>\n",
       "      <td id=\"T_5acac_row10_col0\" class=\"data row10 col0\" >9788563137494</td>\n",
       "      <td id=\"T_5acac_row10_col1\" class=\"data row10 col1\" >Quimeras</td>\n",
       "      <td id=\"T_5acac_row10_col2\" class=\"data row10 col2\" >  1.000</td>\n",
       "    </tr>\n",
       "    <tr>\n",
       "      <td id=\"T_5acac_row11_col0\" class=\"data row11 col0\" >9788563137500</td>\n",
       "      <td id=\"T_5acac_row11_col1\" class=\"data row11 col1\" >Camera Indiscreta</td>\n",
       "      <td id=\"T_5acac_row11_col2\" class=\"data row11 col2\" >  1.000</td>\n",
       "    </tr>\n",
       "    <tr>\n",
       "      <td id=\"T_5acac_row12_col0\" class=\"data row12 col0\" >9788563137258</td>\n",
       "      <td id=\"T_5acac_row12_col1\" class=\"data row12 col1\" >Thomas Piketty e o Segredo dos Ricos</td>\n",
       "      <td id=\"T_5acac_row12_col2\" class=\"data row12 col2\" >    895</td>\n",
       "    </tr>\n",
       "    <tr>\n",
       "      <td id=\"T_5acac_row13_col0\" class=\"data row13 col0\" >9786586691146</td>\n",
       "      <td id=\"T_5acac_row13_col1\" class=\"data row13 col1\" >GUERRA DO DESERTO</td>\n",
       "      <td id=\"T_5acac_row13_col2\" class=\"data row13 col2\" >    895</td>\n",
       "    </tr>\n",
       "    <tr>\n",
       "      <td id=\"T_5acac_row14_col0\" class=\"data row14 col0\" >9788595710085</td>\n",
       "      <td id=\"T_5acac_row14_col1\" class=\"data row14 col1\" >A Vida Secreta de Londres</td>\n",
       "      <td id=\"T_5acac_row14_col2\" class=\"data row14 col2\" >    810</td>\n",
       "    </tr>\n",
       "    <tr>\n",
       "      <td id=\"T_5acac_row15_col0\" class=\"data row15 col0\" >9788595710597</td>\n",
       "      <td id=\"T_5acac_row15_col1\" class=\"data row15 col1\" >O HOMEM SEM TALENTO</td>\n",
       "      <td id=\"T_5acac_row15_col2\" class=\"data row15 col2\" >    786</td>\n",
       "    </tr>\n",
       "    <tr>\n",
       "      <td id=\"T_5acac_row16_col0\" class=\"data row16 col0\" >9788595710436</td>\n",
       "      <td id=\"T_5acac_row16_col1\" class=\"data row16 col1\" >Manifesto Comunista em Quadrinhos</td>\n",
       "      <td id=\"T_5acac_row16_col2\" class=\"data row16 col2\" >    785</td>\n",
       "    </tr>\n",
       "    <tr>\n",
       "      <td id=\"T_5acac_row17_col0\" class=\"data row17 col0\" >9786586691016</td>\n",
       "      <td id=\"T_5acac_row17_col1\" class=\"data row17 col1\" >REANIMATOR</td>\n",
       "      <td id=\"T_5acac_row17_col2\" class=\"data row17 col2\" >    765</td>\n",
       "    </tr>\n",
       "  </tbody>\n",
       "</table>\n"
      ],
      "text/plain": [
       "<pandas.io.formats.style.Styler at 0x1a1daf85d30>"
      ]
     },
     "metadata": {},
     "execution_count": 4
    }
   ],
   "metadata": {}
  },
  {
   "cell_type": "markdown",
   "source": [
    "<br>"
   ],
   "metadata": {}
  },
  {
   "cell_type": "markdown",
   "source": [
    "## Distribuição das Vendas nos Primeiros Quatro Meses\r\n",
    "<br>"
   ],
   "metadata": {}
  },
  {
   "cell_type": "code",
   "execution_count": 5,
   "source": [
    "x = final.loc[filtro, 'Vendas_4M'].dropna().astype(int)\r\n",
    "\r\n",
    "a = x.describe()\r\n",
    "\r\n",
    "print('Quantidade de Títulos:' + (20*' ') +\r\n",
    "      '{:9,.0f}'.format(a[0]).replace(',', '.'))\r\n",
    "print('Média de exemplares Vendidos em 4 meses:  ' +\r\n",
    "      '{:9,.0f}'.format(a[1]).replace(',', '.'))\r\n",
    "print('Menor venda em 4 meses:' + (19*' ') +\r\n",
    "      '{:9,.0f}'.format(a[3]).replace(',', '.'))\r\n",
    "print('Primeiro Quartil (25%):' + (19*' ') +\r\n",
    "      '{:9,.0f}'.format(a[4]).replace(',', '.'))\r\n",
    "print('Segundo  Quartil (50%):' + (19*' ') +\r\n",
    "      '{:9,.0f}'.format(a[5]).replace(',', '.'))\r\n",
    "print('Terceiro Quartil (75%):' + (19*' ') +\r\n",
    "      '{:9,.0f}'.format(a[6]).replace(',', '.'))\r\n",
    "print('Maior Venda em 4 meses:' + (19*' ') +\r\n",
    "      '{:9,.0f}'.format(a[7]).replace(',', '.'))\r\n"
   ],
   "outputs": [
    {
     "output_type": "stream",
     "name": "stdout",
     "text": [
      "Quantidade de Títulos:                          147\n",
      "Média de exemplares Vendidos em 4 meses:        851\n",
      "Menor venda em 4 meses:                           2\n",
      "Primeiro Quartil (25%):                         316\n",
      "Segundo  Quartil (50%):                         607\n",
      "Terceiro Quartil (75%):                       1.124\n",
      "Maior Venda em 4 meses:                       7.508\n"
     ]
    }
   ],
   "metadata": {}
  },
  {
   "cell_type": "code",
   "execution_count": 6,
   "source": [
    "fig = plt.figure(figsize=(12, 6))\r\n",
    "\r\n",
    "ax1 = fig.add_subplot(12, 12, (1, 93))\r\n",
    "\r\n",
    "n, val, _ = ax1.hist(x, range=(0, 1000), bins=20)\r\n",
    "\r\n",
    "# Valores de cada bin\r\n",
    "for txt, pos in zip(n, val):\r\n",
    "    ax1.text(pos + 11, txt+1, '{:3,.0f}'.format(txt))\r\n",
    "    \r\n",
    "ax1.set_ylim([0, 15])\r\n",
    "ax1.set_xlim([0, 1000])\r\n",
    "ax1.set_title('Histograma das Vendas nos Primeiros Quatro Meses')\r\n",
    "ax1.set_ylabel('Quantidade de Títulos')\r\n",
    "\r\n",
    "ax2 = fig.add_subplot(12, 12, (109, 129))\r\n",
    "\r\n",
    "ax2.boxplot(x, vert=False)\r\n",
    "ax2.set_xlim([0, 1000])\r\n",
    "ax2.set_xlabel('Exemplares Vendidos nos Primeiros Quatro Meses')\r\n",
    "ax2.tick_params(\r\n",
    "    axis='y',           # changes apply to the y-axis\r\n",
    "    which='both',       # both major and minor ticks are affected\r\n",
    "    left=False,         # ticks along the left edge are off\r\n",
    "    right=False,        # ticks along the right edge are off\r\n",
    "    labelleft=False)  # labels along the left edge are off\r\n",
    "\r\n",
    "ax3 = fig.add_subplot(12, 12, (11, 144))\r\n",
    "\r\n",
    "ax3.boxplot(x)\r\n",
    "ax3.set_ylabel('Exemplares Vendidos nos Primeiros Quatro meses')\r\n",
    "ax3.set_title('Vendas_4M')\r\n",
    "ax3.tick_params(\r\n",
    "    axis='x',           # changes apply to the x-axis\r\n",
    "    which='both',       # both major and minor ticks are affected\r\n",
    "    bottom=False,       # ticks along the bottom edge are off\r\n",
    "    top=False,          # ticks along the top edge are off\r\n",
    "    labelbottom=False)  # labels along the bottom edge are off\r\n",
    "\r\n",
    "plt.show()\r\n"
   ],
   "outputs": [
    {
     "output_type": "display_data",
     "data": {
      "image/png": "[encoded data removed]",
      "text/plain": [
       "<Figure size 864x432 with 3 Axes>"
      ]
     },
     "metadata": {}
    }
   ],
   "metadata": {}
  },
  {
   "cell_type": "markdown",
   "source": [
    "<br>"
   ],
   "metadata": {}
  },
  {
   "cell_type": "markdown",
   "source": [
    "#### Títulos fora da curva:"
   ],
   "metadata": {}
  },
  {
   "cell_type": "code",
   "execution_count": 7,
   "source": [
    "aux = a['50%'] + 1.5*(a['75%'] - a['25%'])\r\n",
    "\r\n",
    "aux = final.loc[filtro & (final['Vendas_4M'] > aux),\r\n",
    "                ['Titulo', 'Vendas_4M']\r\n",
    "                ].sort_values('Vendas_4M', ascending=False)\\\r\n",
    "    .reset_index()\r\n",
    "pd.set_option('display.max_colwidth', 40)\r\n",
    "aux.columns = ['ISBN', 'Título', 'Vendas']\r\n",
    "aux['Vendas'] = aux['Vendas'].map(\r\n",
    "    lambda x: '{:7,.0f}'.format(x).replace(',', '.'))\r\n",
    "aux.style.hide_index()\r\n"
   ],
   "outputs": [
    {
     "output_type": "execute_result",
     "data": {
      "text/html": [
       "<style type=\"text/css\">\n",
       "</style>\n",
       "<table id=\"T_8a138_\">\n",
       "  <thead>\n",
       "    <tr>\n",
       "      <th class=\"col_heading level0 col0\" >ISBN</th>\n",
       "      <th class=\"col_heading level0 col1\" >Título</th>\n",
       "      <th class=\"col_heading level0 col2\" >Vendas</th>\n",
       "    </tr>\n",
       "  </thead>\n",
       "  <tbody>\n",
       "    <tr>\n",
       "      <td id=\"T_8a138_row0_col0\" class=\"data row0 col0\" >9788563137289</td>\n",
       "      <td id=\"T_8a138_row0_col1\" class=\"data row0 col1\" >Do Inferno</td>\n",
       "      <td id=\"T_8a138_row0_col2\" class=\"data row0 col2\" >  7.508</td>\n",
       "    </tr>\n",
       "    <tr>\n",
       "      <td id=\"T_8a138_row1_col0\" class=\"data row1 col0\" >9788595710702</td>\n",
       "      <td id=\"T_8a138_row1_col1\" class=\"data row1 col1\" >BERLIM</td>\n",
       "      <td id=\"T_8a138_row1_col2\" class=\"data row1 col2\" >  3.524</td>\n",
       "    </tr>\n",
       "    <tr>\n",
       "      <td id=\"T_8a138_row2_col0\" class=\"data row2 col0\" >9786586691191</td>\n",
       "      <td id=\"T_8a138_row2_col1\" class=\"data row2 col1\" >MAU</td>\n",
       "      <td id=\"T_8a138_row2_col2\" class=\"data row2 col2\" >  3.338</td>\n",
       "    </tr>\n",
       "    <tr>\n",
       "      <td id=\"T_8a138_row3_col0\" class=\"data row3 col0\" >9788595710399</td>\n",
       "      <td id=\"T_8a138_row3_col1\" class=\"data row3 col1\" >Carolina - 3 Edicao</td>\n",
       "      <td id=\"T_8a138_row3_col2\" class=\"data row3 col2\" >  3.302</td>\n",
       "    </tr>\n",
       "    <tr>\n",
       "      <td id=\"T_8a138_row4_col0\" class=\"data row4 col0\" >9788563137319</td>\n",
       "      <td id=\"T_8a138_row4_col1\" class=\"data row4 col1\" >Caravaggio - A Morte da Virgem</td>\n",
       "      <td id=\"T_8a138_row4_col2\" class=\"data row4 col2\" >  3.266</td>\n",
       "    </tr>\n",
       "    <tr>\n",
       "      <td id=\"T_8a138_row5_col0\" class=\"data row5 col0\" >9788595710689</td>\n",
       "      <td id=\"T_8a138_row5_col1\" class=\"data row5 col1\" >DISCURSO SOBRE O COLONIALISMO</td>\n",
       "      <td id=\"T_8a138_row5_col2\" class=\"data row5 col2\" >  3.154</td>\n",
       "    </tr>\n",
       "    <tr>\n",
       "      <td id=\"T_8a138_row6_col0\" class=\"data row6 col0\" >9788563137685</td>\n",
       "      <td id=\"T_8a138_row6_col1\" class=\"data row6 col1\" >Educacao Sob Ataque. Resistencia E Luta Dos Educadores No Parana</td>\n",
       "      <td id=\"T_8a138_row6_col2\" class=\"data row6 col2\" >  3.056</td>\n",
       "    </tr>\n",
       "    <tr>\n",
       "      <td id=\"T_8a138_row7_col0\" class=\"data row7 col0\" >9788563137258</td>\n",
       "      <td id=\"T_8a138_row7_col1\" class=\"data row7 col1\" >Thomas Piketty e o Segredo dos Ricos</td>\n",
       "      <td id=\"T_8a138_row7_col2\" class=\"data row7 col2\" >  2.795</td>\n",
       "    </tr>\n",
       "    <tr>\n",
       "      <td id=\"T_8a138_row8_col0\" class=\"data row8 col0\" >9788563137494</td>\n",
       "      <td id=\"T_8a138_row8_col1\" class=\"data row8 col1\" >Quimeras</td>\n",
       "      <td id=\"T_8a138_row8_col2\" class=\"data row8 col2\" >  2.015</td>\n",
       "    </tr>\n",
       "    <tr>\n",
       "      <td id=\"T_8a138_row9_col0\" class=\"data row9 col0\" >9786586691139</td>\n",
       "      <td id=\"T_8a138_row9_col1\" class=\"data row9 col1\" >AS ALMAS DO POVO NEGRO</td>\n",
       "      <td id=\"T_8a138_row9_col2\" class=\"data row9 col2\" >  1.986</td>\n",
       "    </tr>\n",
       "    <tr>\n",
       "      <td id=\"T_8a138_row10_col0\" class=\"data row10 col0\" >9788563137500</td>\n",
       "      <td id=\"T_8a138_row10_col1\" class=\"data row10 col1\" >Camera Indiscreta</td>\n",
       "      <td id=\"T_8a138_row10_col2\" class=\"data row10 col2\" >  1.909</td>\n",
       "    </tr>\n",
       "    <tr>\n",
       "      <td id=\"T_8a138_row11_col0\" class=\"data row11 col0\" >9788595710085</td>\n",
       "      <td id=\"T_8a138_row11_col1\" class=\"data row11 col1\" >A Vida Secreta de Londres</td>\n",
       "      <td id=\"T_8a138_row11_col2\" class=\"data row11 col2\" >  1.898</td>\n",
       "    </tr>\n",
       "    <tr>\n",
       "      <td id=\"T_8a138_row12_col0\" class=\"data row12 col0\" >9788595710153</td>\n",
       "      <td id=\"T_8a138_row12_col1\" class=\"data row12 col1\" >Ayako</td>\n",
       "      <td id=\"T_8a138_row12_col2\" class=\"data row12 col2\" >  1.893</td>\n",
       "    </tr>\n",
       "  </tbody>\n",
       "</table>\n"
      ],
      "text/plain": [
       "<pandas.io.formats.style.Styler at 0x1a1f1d11b50>"
      ]
     },
     "metadata": {},
     "execution_count": 7
    }
   ],
   "metadata": {}
  },
  {
   "cell_type": "markdown",
   "source": [
    "<br>"
   ],
   "metadata": {}
  },
  {
   "cell_type": "markdown",
   "source": [
    "## Distribuição das Vendas no Primeiro Ano\r\n",
    "<br>"
   ],
   "metadata": {}
  },
  {
   "cell_type": "code",
   "execution_count": 8,
   "source": [
    "x = final.loc[filtro, 'Vendas_12M'].dropna().astype(int)\r\n",
    "\r\n",
    "a = x.describe()\r\n",
    "\r\n",
    "print('Quantidade de Títulos:' + (20*' ') +\r\n",
    "      '{:9,.0f}'.format(a[0]).replace(',', '.'))\r\n",
    "print('Média de exemplares Vendidos em 12 meses: ' +\r\n",
    "      '{:9,.0f}'.format(a[1]).replace(',', '.'))\r\n",
    "print('Menor venda em 12 meses:' + (18*' ') +\r\n",
    "      '{:9,.0f}'.format(a[3]).replace(',', '.'))\r\n",
    "print('Primeiro Quartil (25%):' + (19*' ') +\r\n",
    "      '{:9,.0f}'.format(a[4]).replace(',', '.'))\r\n",
    "print('Segundo  Quartil (50%):' + (19*' ') +\r\n",
    "      '{:9,.0f}'.format(a[5]).replace(',', '.'))\r\n",
    "print('Terceiro Quartil (75%):' + (19*' ') +\r\n",
    "      '{:9,.0f}'.format(a[6]).replace(',', '.'))\r\n",
    "print('Maior Venda em 12 meses:' + (18*' ') +\r\n",
    "      '{:9,.0f}'.format(a[7]).replace(',', '.'))"
   ],
   "outputs": [
    {
     "output_type": "stream",
     "name": "stdout",
     "text": [
      "Quantidade de Títulos:                          128\n",
      "Média de exemplares Vendidos em 12 meses:     1.441\n",
      "Menor venda em 12 meses:                          4\n",
      "Primeiro Quartil (25%):                         560\n",
      "Segundo  Quartil (50%):                       1.026\n",
      "Terceiro Quartil (75%):                       1.792\n",
      "Maior Venda em 12 meses:                     10.562\n"
     ]
    }
   ],
   "metadata": {}
  },
  {
   "cell_type": "markdown",
   "source": [
    "<br>"
   ],
   "metadata": {}
  },
  {
   "cell_type": "code",
   "execution_count": 9,
   "source": [
    "fig = plt.figure(figsize=(12, 6))\r\n",
    "\r\n",
    "ax1 = fig.add_subplot(12, 12, (1, 93))\r\n",
    "\r\n",
    "n, val, _ = ax1.hist(x, range=(0, 1000), bins=20)\r\n",
    "\r\n",
    "# Valores de cada bin\r\n",
    "for txt, pos in zip(n, val):\r\n",
    "    ax1.text(pos + 11, txt+1, '{:3,.0f}'.format(txt))\r\n",
    "ax1.set_ylim([0, 9])\r\n",
    "ax1.set_xlim([0, 1000])\r\n",
    "ax1.set_title('Histograma das Vendas no Primeiro Ano')\r\n",
    "ax1.set_ylabel('Quantidade de Títulos')\r\n",
    "\r\n",
    "ax2 = fig.add_subplot(12, 12, (109, 129))\r\n",
    "\r\n",
    "ax2.boxplot(x, vert=False)\r\n",
    "ax2.set_xlim([0, 1000])\r\n",
    "ax2.set_xlabel('Vendas no Primeiro Ano')\r\n",
    "ax2.tick_params(\r\n",
    "    axis='y',           # changes apply to the y-axis\r\n",
    "    which='both',       # both major and minor ticks are affected\r\n",
    "    left=False,         # ticks along the left edge are off\r\n",
    "    right=False,        # ticks along the right edge are off\r\n",
    "    labelleft=False)    # labels along the left edge are off\r\n",
    "\r\n",
    "ax3 = fig.add_subplot(12, 12, (11, 144))\r\n",
    "\r\n",
    "ax3.boxplot(x)\r\n",
    "ax3.set_ylabel('Exemplares Vendidos no Primeiro Ano')\r\n",
    "ax3.set_title('Vendas_12M')\r\n",
    "ax3.tick_params(\r\n",
    "    axis='x',           # changes apply to the x-axis\r\n",
    "    which='both',       # both major and minor ticks are affected\r\n",
    "    bottom=False,       # ticks along the bottom edge are off\r\n",
    "    top=False,          # ticks along the top edge are off\r\n",
    "    labelbottom=False)  # labels along the bottom edge are off\r\n",
    "\r\n",
    "plt.show()\r\n"
   ],
   "outputs": [
    {
     "output_type": "display_data",
     "data": {
      "image/png": "[encoded data removed]",
      "text/plain": [
       "<Figure size 864x432 with 3 Axes>"
      ]
     },
     "metadata": {}
    }
   ],
   "metadata": {}
  },
  {
   "cell_type": "markdown",
   "source": [
    "<br>"
   ],
   "metadata": {}
  },
  {
   "cell_type": "markdown",
   "source": [
    "#### Títulos fora da curva:"
   ],
   "metadata": {}
  },
  {
   "cell_type": "code",
   "execution_count": 10,
   "source": [
    "aux = a['50%'] + 1.5*(a['75%'] - a['25%'])\r\n",
    "\r\n",
    "aux = final.loc[filtro & (final['Vendas_12M'] > aux),\r\n",
    "              ['Titulo', 'Vendas_12M']\r\n",
    "              ].sort_values('Vendas_12M', ascending=False)\\\r\n",
    "                    .reset_index()\r\n",
    "pd.set_option('display.max_colwidth', 40)\r\n",
    "aux.columns = ['ISBN', 'Título', 'Vendas']\r\n",
    "aux['Vendas'] = aux['Vendas'].map(\r\n",
    "    lambda x: '{:7,.0f}'.format(x).replace(',', '.'))\r\n",
    "aux.style.hide_index()"
   ],
   "outputs": [
    {
     "output_type": "execute_result",
     "data": {
      "text/html": [
       "<style type=\"text/css\">\n",
       "</style>\n",
       "<table id=\"T_42d0c_\">\n",
       "  <thead>\n",
       "    <tr>\n",
       "      <th class=\"col_heading level0 col0\" >ISBN</th>\n",
       "      <th class=\"col_heading level0 col1\" >Título</th>\n",
       "      <th class=\"col_heading level0 col2\" >Vendas</th>\n",
       "    </tr>\n",
       "  </thead>\n",
       "  <tbody>\n",
       "    <tr>\n",
       "      <td id=\"T_42d0c_row0_col0\" class=\"data row0 col0\" >9788563137289</td>\n",
       "      <td id=\"T_42d0c_row0_col1\" class=\"data row0 col1\" >Do Inferno</td>\n",
       "      <td id=\"T_42d0c_row0_col2\" class=\"data row0 col2\" > 10.562</td>\n",
       "    </tr>\n",
       "    <tr>\n",
       "      <td id=\"T_42d0c_row1_col0\" class=\"data row1 col0\" >9788595710689</td>\n",
       "      <td id=\"T_42d0c_row1_col1\" class=\"data row1 col1\" >DISCURSO SOBRE O COLONIALISMO</td>\n",
       "      <td id=\"T_42d0c_row1_col2\" class=\"data row1 col2\" >  7.089</td>\n",
       "    </tr>\n",
       "    <tr>\n",
       "      <td id=\"T_42d0c_row2_col0\" class=\"data row2 col0\" >9788563137258</td>\n",
       "      <td id=\"T_42d0c_row2_col1\" class=\"data row2 col1\" >Thomas Piketty e o Segredo dos Ricos</td>\n",
       "      <td id=\"T_42d0c_row2_col2\" class=\"data row2 col2\" >  5.681</td>\n",
       "    </tr>\n",
       "    <tr>\n",
       "      <td id=\"T_42d0c_row3_col0\" class=\"data row3 col0\" >9788595710207</td>\n",
       "      <td id=\"T_42d0c_row3_col1\" class=\"data row3 col1\" >Cumbe - Edicao Ampliada</td>\n",
       "      <td id=\"T_42d0c_row3_col2\" class=\"data row3 col2\" >  5.008</td>\n",
       "    </tr>\n",
       "    <tr>\n",
       "      <td id=\"T_42d0c_row4_col0\" class=\"data row4 col0\" >9788595710139</td>\n",
       "      <td id=\"T_42d0c_row4_col1\" class=\"data row4 col1\" >Angola Janga</td>\n",
       "      <td id=\"T_42d0c_row4_col2\" class=\"data row4 col2\" >  4.798</td>\n",
       "    </tr>\n",
       "    <tr>\n",
       "      <td id=\"T_42d0c_row5_col0\" class=\"data row5 col0\" >9788563137463</td>\n",
       "      <td id=\"T_42d0c_row5_col1\" class=\"data row5 col1\" >A Clavicula de Salomao</td>\n",
       "      <td id=\"T_42d0c_row5_col2\" class=\"data row5 col2\" >  4.348</td>\n",
       "    </tr>\n",
       "    <tr>\n",
       "      <td id=\"T_42d0c_row6_col0\" class=\"data row6 col0\" >9788563137319</td>\n",
       "      <td id=\"T_42d0c_row6_col1\" class=\"data row6 col1\" >Caravaggio - A Morte da Virgem</td>\n",
       "      <td id=\"T_42d0c_row6_col2\" class=\"data row6 col2\" >  4.187</td>\n",
       "    </tr>\n",
       "    <tr>\n",
       "      <td id=\"T_42d0c_row7_col0\" class=\"data row7 col0\" >9788595710399</td>\n",
       "      <td id=\"T_42d0c_row7_col1\" class=\"data row7 col1\" >Carolina - 3 Edicao</td>\n",
       "      <td id=\"T_42d0c_row7_col2\" class=\"data row7 col2\" >  4.072</td>\n",
       "    </tr>\n",
       "    <tr>\n",
       "      <td id=\"T_42d0c_row8_col0\" class=\"data row8 col0\" >9788563137746</td>\n",
       "      <td id=\"T_42d0c_row8_col1\" class=\"data row8 col1\" >O Caminho do Tarot</td>\n",
       "      <td id=\"T_42d0c_row8_col2\" class=\"data row8 col2\" >  3.755</td>\n",
       "    </tr>\n",
       "    <tr>\n",
       "      <td id=\"T_42d0c_row9_col0\" class=\"data row9 col0\" >9788595710177</td>\n",
       "      <td id=\"T_42d0c_row9_col1\" class=\"data row9 col1\" >O Livro da Lei</td>\n",
       "      <td id=\"T_42d0c_row9_col2\" class=\"data row9 col2\" >  3.414</td>\n",
       "    </tr>\n",
       "    <tr>\n",
       "      <td id=\"T_42d0c_row10_col0\" class=\"data row10 col0\" >9788563137395</td>\n",
       "      <td id=\"T_42d0c_row10_col1\" class=\"data row10 col1\" >Zumbis para Colorir</td>\n",
       "      <td id=\"T_42d0c_row10_col2\" class=\"data row10 col2\" >  3.290</td>\n",
       "    </tr>\n",
       "    <tr>\n",
       "      <td id=\"T_42d0c_row11_col0\" class=\"data row11 col0\" >9788563137685</td>\n",
       "      <td id=\"T_42d0c_row11_col1\" class=\"data row11 col1\" >Educacao Sob Ataque. Resistencia E Luta Dos Educadores No Parana</td>\n",
       "      <td id=\"T_42d0c_row11_col2\" class=\"data row11 col2\" >  3.131</td>\n",
       "    </tr>\n",
       "    <tr>\n",
       "      <td id=\"T_42d0c_row12_col0\" class=\"data row12 col0\" >9788563137272</td>\n",
       "      <td id=\"T_42d0c_row12_col1\" class=\"data row12 col1\" >O Capital</td>\n",
       "      <td id=\"T_42d0c_row12_col2\" class=\"data row12 col2\" >  2.963</td>\n",
       "    </tr>\n",
       "    <tr>\n",
       "      <td id=\"T_42d0c_row13_col0\" class=\"data row13 col0\" >9788595710153</td>\n",
       "      <td id=\"T_42d0c_row13_col1\" class=\"data row13 col1\" >Ayako</td>\n",
       "      <td id=\"T_42d0c_row13_col2\" class=\"data row13 col2\" >  2.874</td>\n",
       "    </tr>\n",
       "  </tbody>\n",
       "</table>\n"
      ],
      "text/plain": [
       "<pandas.io.formats.style.Styler at 0x1a1f1f105e0>"
      ]
     },
     "metadata": {},
     "execution_count": 10
    }
   ],
   "metadata": {}
  },
  {
   "cell_type": "markdown",
   "source": [
    "<br>"
   ],
   "metadata": {}
  },
  {
   "cell_type": "markdown",
   "source": [
    "## Proporção das vendas nos primeiros meses, em comparação com a venda anual."
   ],
   "metadata": {}
  },
  {
   "cell_type": "code",
   "execution_count": 11,
   "source": [
    "x = final.loc[filtro & (final['Vendas_12M'] < 2873),\r\n",
    "              ['Vendas_1M', 'Vendas_4M', 'Vendas_6M', 'Vendas_12M']].dropna().astype(int)\r\n",
    "\r\n",
    "y = x['Vendas_4M'] / x['Vendas_12M']\r\n",
    "z = x['Vendas_6M'] / x['Vendas_12M']\r\n",
    "x = x['Vendas_1M'] / x['Vendas_4M']\r\n",
    "\r\n",
    "fig = plt.figure(figsize=(12, 4))\r\n",
    "\r\n",
    "ax1 = fig.add_subplot(1, 1, 1)\r\n",
    "\r\n",
    "ax1.boxplot([x, y, z])\r\n",
    "ax1.set_ylabel('Vendas nos Primeiros Quatro Meses')\r\n",
    "ax1.set_title('Progressão de Vendas')\r\n",
    "ax1.set_xticklabels(['1M / 4M', '4M / 12M', '6M / 12M'])\r\n",
    "\r\n",
    "plt.show()\r\n"
   ],
   "outputs": [
    {
     "output_type": "display_data",
     "data": {
      "image/png": "[encoded data removed]",
      "text/plain": [
       "<Figure size 864x288 with 1 Axes>"
      ]
     },
     "metadata": {}
    }
   ],
   "metadata": {}
  },
  {
   "cell_type": "markdown",
   "source": [
    "Como as medianas estão acima das proporções nominais (1/4, 1/3 e 1/2), o gráfico confirma a concentração das vendas nos primeiros meses"
   ],
   "metadata": {}
  },
  {
   "cell_type": "code",
   "execution_count": 12,
   "source": [
    "x = final.loc[filtro & (final['Vendas_12M'] < 2873),\r\n",
    "              ['Vendas_1M', 'Vendas_4M', 'Vendas_12M']].dropna().astype(int)\r\n",
    "\r\n",
    "y = x['Vendas_4M'] / x['Vendas_12M']\r\n",
    "z = x['Vendas_12M']\r\n",
    "x = x['Vendas_1M'] / x['Vendas_4M']\r\n",
    "\r\n",
    "fig = plt.figure(figsize=(12, 8))\r\n",
    "\r\n",
    "# Deixa o colormap mais escuro\r\n",
    "cmap = mpl.cm.Blues(np.linspace(0, 1, 20))\r\n",
    "cmap = mpl.colors.ListedColormap(cmap[10:, :-1])\r\n",
    "\r\n",
    "ax1 = fig.add_subplot(1, 1, 1)\r\n",
    "ax1.scatter(x=x, y=y, c=z, s=100, cmap=cmap, alpha=0.5)\r\n",
    "ax1.set_xlim(0, 1)\r\n",
    "ax1.set_ylim(0, 1)\r\n",
    "ax1.set_xlabel('Vendas 1o mês / Vendas 4o Mês')\r\n",
    "ax1.set_ylabel('Vendas 4o mês / Vendas 12o Mês')\r\n",
    "ax1.add_line(line.Line2D([1/4, 1/4], [0, 1], color='gray'))\r\n",
    "ax1.add_line(line.Line2D([0, 1], [1/3, 1/3], color='gray'))\r\n",
    "plt.show()\r\n"
   ],
   "outputs": [
    {
     "output_type": "display_data",
     "data": {
      "image/png": "[encoded data removed]",
      "text/plain": [
       "<Figure size 864x576 with 1 Axes>"
      ]
     },
     "metadata": {}
    }
   ],
   "metadata": {}
  },
  {
   "cell_type": "markdown",
   "source": [
    "Examinando o gráfico acima, nãoé possivel detectar um padrão ou agrupamento de produtos. O gráfico apenas confirma que há uma concentração das vendas nos primeiros meses de venda. A tiragem parece não ter uma relação direta com a proporção das vendas."
   ],
   "metadata": {}
  },
  {
   "cell_type": "markdown",
   "source": [
    "## Análise do Giro Consignado"
   ],
   "metadata": {}
  },
  {
   "cell_type": "code",
   "execution_count": 13,
   "source": [
    "x = final.loc[filtro,\r\n",
    "              ['Ven_Cons_1M', 'Ven_Cons_4M', 'Ven_Cons_12M',\r\n",
    "               'Est_Cons_1M', 'Est_Cons_4M', 'Est_Cons_12M']]\r\n",
    "\r\n",
    "y = (x['Ven_Cons_4M'] / x['Est_Cons_4M']).dropna()\r\n",
    "z = (x['Ven_Cons_12M'] / x['Est_Cons_12M']).dropna()\r\n",
    "x = (x['Ven_Cons_1M'] / x['Est_Cons_1M']).dropna()\r\n",
    "\r\n",
    "fig = plt.figure(figsize=(12, 4))\r\n",
    "\r\n",
    "ax1 = fig.add_subplot(1, 1, 1)\r\n",
    "\r\n",
    "ax1.boxplot([x, y, z])\r\n",
    "ax1.set_ylabel('Vendas nos Primeiros Quatro Meses')\r\n",
    "ax1.set_title('Giro do Estoque Consignado')\r\n",
    "ax1.set_xticklabels(['1M', '4M', '12M'])\r\n",
    "\r\n",
    "plt.show()\r\n"
   ],
   "outputs": [
    {
     "output_type": "display_data",
     "data": {
      "image/png": "[encoded data removed]",
      "text/plain": [
       "<Figure size 864x288 with 1 Axes>"
      ]
     },
     "metadata": {}
    }
   ],
   "metadata": {}
  },
  {
   "cell_type": "markdown",
   "source": [
    "<br>"
   ],
   "metadata": {}
  },
  {
   "cell_type": "markdown",
   "source": [
    "### Giro dos Consignados no Primeiro Ano\r\n",
    "<br>"
   ],
   "metadata": {}
  },
  {
   "cell_type": "code",
   "execution_count": 14,
   "source": [
    "x = final.loc[filtro, ['Ven_Cons_12M', 'Est_Cons_12M']].dropna()\r\n",
    "x = (x['Ven_Cons_12M'] / x['Est_Cons_12M']).dropna()\r\n",
    "\r\n",
    "a = x.describe()\r\n",
    "\r\n",
    "print('Quantidade de Títulos:' + (20*' ') +\r\n",
    "      '{:9,.0f}'.format(a[0]).replace(',', '.'))\r\n",
    "print('Média de exemplares Vendidos em 12 meses: ' +\r\n",
    "      '{:9,.0f}'.format(a[1]).replace(',', '.'))\r\n",
    "print('Menor giro em 12 meses:' + (19*' ') +\r\n",
    "      '{:9,.0%}'.format(a[3]).replace(',', '.'))\r\n",
    "print('Primeiro Quartil (25%):' + (19*' ') +\r\n",
    "      '{:9,.0%}'.format(a[4]).replace(',', '.'))\r\n",
    "print('Segundo  Quartil (50%):' + (19*' ') +\r\n",
    "      '{:9,.0%}'.format(a[5]).replace(',', '.'))\r\n",
    "print('Terceiro Quartil (75%):' + (19*' ') +\r\n",
    "      '{:9,.0%}'.format(a[6]).replace(',', '.'))\r\n",
    "print('Maior Giro em 12 meses:' + (19*' ') +\r\n",
    "      '{:9,.0%}'.format(a[7]).replace(',', '.'))"
   ],
   "outputs": [
    {
     "output_type": "stream",
     "name": "stdout",
     "text": [
      "Quantidade de Títulos:                          108\n",
      "Média de exemplares Vendidos em 12 meses:         1\n",
      "Menor giro em 12 meses:                         10%\n",
      "Primeiro Quartil (25%):                         36%\n",
      "Segundo  Quartil (50%):                         51%\n",
      "Terceiro Quartil (75%):                         62%\n",
      "Maior Giro em 12 meses:                        204%\n"
     ]
    }
   ],
   "metadata": {}
  },
  {
   "cell_type": "markdown",
   "source": [
    "<br>"
   ],
   "metadata": {}
  },
  {
   "cell_type": "code",
   "execution_count": 15,
   "source": [
    "fig = plt.figure(figsize=(12, 4))\r\n",
    "\r\n",
    "ax1 = fig.add_subplot(1, 12, (1, 9))\r\n",
    "\r\n",
    "n, val, _ = ax1.hist(x, range=(0, 1), bins=30)\r\n",
    "\r\n",
    "# Valores de cada bin\r\n",
    "#for txt, pos in zip(n, val):\r\n",
    "#    ax1.text(pos + 11, txt+1, '{:,.0f}'.format(txt))\r\n",
    "ax1.set_ylim([0, 13])\r\n",
    "ax1.set_xlim([0, 1])\r\n",
    "ax1.set_title('Histograma do Giro no Primeiro Ano')\r\n",
    "ax1.set_xlabel('Vendas / Envios')\r\n",
    "ax1.set_ylabel('Quantidade de Títulos')\r\n",
    "\r\n",
    "ax2 = fig.add_subplot(1, 12, (11, 12))\r\n",
    "\r\n",
    "ax2.boxplot(x)\r\n",
    "ax2.set_ylabel('Giro de Consignados no Primeiro Ano')\r\n",
    "ax2.set_title('Giro_Cons_12M')\r\n",
    "ax2.tick_params(\r\n",
    "    axis='x',           # changes apply to the x-axis\r\n",
    "    which='both',       # both major and minor ticks are affected\r\n",
    "    bottom=False,       # ticks along the bottom edge are off\r\n",
    "    top=False,          # ticks along the top edge are off\r\n",
    "    labelbottom=False)  # labels along the bottom edge are off\r\n",
    "\r\n",
    "plt.show()\r\n"
   ],
   "outputs": [
    {
     "output_type": "display_data",
     "data": {
      "image/png": "[encoded data removed]",
      "text/plain": [
       "<Figure size 864x288 with 2 Axes>"
      ]
     },
     "metadata": {}
    }
   ],
   "metadata": {}
  },
  {
   "cell_type": "markdown",
   "source": [
    "<br>"
   ],
   "metadata": {}
  },
  {
   "cell_type": "markdown",
   "source": [
    "### Maiores Giros de Consignação em 12 meses"
   ],
   "metadata": {}
  },
  {
   "cell_type": "code",
   "execution_count": 16,
   "source": [
    "y = pd.concat([final['Titulo'],\r\n",
    "           x.sort_values(axis=0, ascending=False).head(10).rename('Giro')], join='inner', axis=1).sort_values(by='Giro', ascending=False)\r\n",
    "\r\n",
    "y['Giro'] = y['Giro'].map(lambda x: '{:8,.1%}'.format(x).replace(',', '.'))\r\n",
    "y"
   ],
   "outputs": [
    {
     "output_type": "execute_result",
     "data": {
      "text/html": [
       "<div>\n",
       "<style scoped>\n",
       "    .dataframe tbody tr th:only-of-type {\n",
       "        vertical-align: middle;\n",
       "    }\n",
       "\n",
       "    .dataframe tbody tr th {\n",
       "        vertical-align: top;\n",
       "    }\n",
       "\n",
       "    .dataframe thead th {\n",
       "        text-align: right;\n",
       "    }\n",
       "</style>\n",
       "<table border=\"1\" class=\"dataframe\">\n",
       "  <thead>\n",
       "    <tr style=\"text-align: right;\">\n",
       "      <th></th>\n",
       "      <th>Titulo</th>\n",
       "      <th>Giro</th>\n",
       "    </tr>\n",
       "  </thead>\n",
       "  <tbody>\n",
       "    <tr>\n",
       "      <th>9788563137043</th>\n",
       "      <td>O Livro dos Santos</td>\n",
       "      <td>203.8%</td>\n",
       "    </tr>\n",
       "    <tr>\n",
       "      <th>9788563137463</th>\n",
       "      <td>A Clavicula de Salomao</td>\n",
       "      <td>89.5%</td>\n",
       "    </tr>\n",
       "    <tr>\n",
       "      <th>9788595710207</th>\n",
       "      <td>Cumbe - Edicao Ampliada</td>\n",
       "      <td>81.1%</td>\n",
       "    </tr>\n",
       "    <tr>\n",
       "      <th>9788595710153</th>\n",
       "      <td>Ayako</td>\n",
       "      <td>79.1%</td>\n",
       "    </tr>\n",
       "    <tr>\n",
       "      <th>9788595710177</th>\n",
       "      <td>O Livro da Lei</td>\n",
       "      <td>79.0%</td>\n",
       "    </tr>\n",
       "    <tr>\n",
       "      <th>9788563137258</th>\n",
       "      <td>Thomas Piketty e o Segredo dos Ricos</td>\n",
       "      <td>77.6%</td>\n",
       "    </tr>\n",
       "    <tr>\n",
       "      <th>9788563137531</th>\n",
       "      <td>Coltrane</td>\n",
       "      <td>77.4%</td>\n",
       "    </tr>\n",
       "    <tr>\n",
       "      <th>9788563137647</th>\n",
       "      <td>Bukowski: Vida e loucuras de um velh...</td>\n",
       "      <td>77.0%</td>\n",
       "    </tr>\n",
       "    <tr>\n",
       "      <th>9788563137746</th>\n",
       "      <td>O Caminho do Tarot</td>\n",
       "      <td>76.6%</td>\n",
       "    </tr>\n",
       "    <tr>\n",
       "      <th>9788595710139</th>\n",
       "      <td>Angola Janga</td>\n",
       "      <td>76.0%</td>\n",
       "    </tr>\n",
       "  </tbody>\n",
       "</table>\n",
       "</div>"
      ],
      "text/plain": [
       "                                                Titulo      Giro\n",
       "9788563137043                       O Livro dos Santos    203.8%\n",
       "9788563137463                   A Clavicula de Salomao     89.5%\n",
       "9788595710207                  Cumbe - Edicao Ampliada     81.1%\n",
       "9788595710153                                    Ayako     79.1%\n",
       "9788595710177                           O Livro da Lei     79.0%\n",
       "9788563137258     Thomas Piketty e o Segredo dos Ricos     77.6%\n",
       "9788563137531                                 Coltrane     77.4%\n",
       "9788563137647  Bukowski: Vida e loucuras de um velh...     77.0%\n",
       "9788563137746                       O Caminho do Tarot     76.6%\n",
       "9788595710139                             Angola Janga     76.0%"
      ]
     },
     "metadata": {},
     "execution_count": 16
    }
   ],
   "metadata": {}
  },
  {
   "cell_type": "markdown",
   "source": [
    "<br>"
   ],
   "metadata": {}
  },
  {
   "cell_type": "markdown",
   "source": [
    "### Maiores Vendas de Consignação em 12 meses"
   ],
   "metadata": {}
  },
  {
   "cell_type": "code",
   "execution_count": 17,
   "source": [
    "x = final.loc[filtro, ['Titulo', 'Ven_Cons_12M']].dropna().sort_values(\r\n",
    "    'Ven_Cons_12M', ascending=False).head(10).rename({'Ven_Cons_12M': 'Vendas'}, axis=1).astype({'Vendas': int})\r\n",
    "x['Vendas'] = x['Vendas'].map(lambda x: '{:8,.0f}'.format(x).replace(',', '.'))\r\n",
    "x"
   ],
   "outputs": [
    {
     "output_type": "execute_result",
     "data": {
      "text/html": [
       "<div>\n",
       "<style scoped>\n",
       "    .dataframe tbody tr th:only-of-type {\n",
       "        vertical-align: middle;\n",
       "    }\n",
       "\n",
       "    .dataframe tbody tr th {\n",
       "        vertical-align: top;\n",
       "    }\n",
       "\n",
       "    .dataframe thead th {\n",
       "        text-align: right;\n",
       "    }\n",
       "</style>\n",
       "<table border=\"1\" class=\"dataframe\">\n",
       "  <thead>\n",
       "    <tr style=\"text-align: right;\">\n",
       "      <th></th>\n",
       "      <th>Titulo</th>\n",
       "      <th>Vendas</th>\n",
       "    </tr>\n",
       "  </thead>\n",
       "  <tbody>\n",
       "    <tr>\n",
       "      <th>9788563137258</th>\n",
       "      <td>Thomas Piketty e o Segredo dos Ricos</td>\n",
       "      <td>3.793</td>\n",
       "    </tr>\n",
       "    <tr>\n",
       "      <th>9788563137463</th>\n",
       "      <td>A Clavicula de Salomao</td>\n",
       "      <td>3.466</td>\n",
       "    </tr>\n",
       "    <tr>\n",
       "      <th>9788563137395</th>\n",
       "      <td>Zumbis para Colorir</td>\n",
       "      <td>2.773</td>\n",
       "    </tr>\n",
       "    <tr>\n",
       "      <th>9788563137289</th>\n",
       "      <td>Do Inferno</td>\n",
       "      <td>2.671</td>\n",
       "    </tr>\n",
       "    <tr>\n",
       "      <th>9788563137746</th>\n",
       "      <td>O Caminho do Tarot</td>\n",
       "      <td>2.416</td>\n",
       "    </tr>\n",
       "    <tr>\n",
       "      <th>9788595710177</th>\n",
       "      <td>O Livro da Lei</td>\n",
       "      <td>2.409</td>\n",
       "    </tr>\n",
       "    <tr>\n",
       "      <th>9788595710207</th>\n",
       "      <td>Cumbe - Edicao Ampliada</td>\n",
       "      <td>2.363</td>\n",
       "    </tr>\n",
       "    <tr>\n",
       "      <th>9788595710139</th>\n",
       "      <td>Angola Janga</td>\n",
       "      <td>2.301</td>\n",
       "    </tr>\n",
       "    <tr>\n",
       "      <th>9788563137272</th>\n",
       "      <td>O Capital</td>\n",
       "      <td>1.716</td>\n",
       "    </tr>\n",
       "    <tr>\n",
       "      <th>9788563137319</th>\n",
       "      <td>Caravaggio - A Morte da Virgem</td>\n",
       "      <td>1.596</td>\n",
       "    </tr>\n",
       "  </tbody>\n",
       "</table>\n",
       "</div>"
      ],
      "text/plain": [
       "                                             Titulo    Vendas\n",
       "9788563137258  Thomas Piketty e o Segredo dos Ricos     3.793\n",
       "9788563137463                A Clavicula de Salomao     3.466\n",
       "9788563137395                   Zumbis para Colorir     2.773\n",
       "9788563137289                            Do Inferno     2.671\n",
       "9788563137746                    O Caminho do Tarot     2.416\n",
       "9788595710177                        O Livro da Lei     2.409\n",
       "9788595710207               Cumbe - Edicao Ampliada     2.363\n",
       "9788595710139                          Angola Janga     2.301\n",
       "9788563137272                             O Capital     1.716\n",
       "9788563137319        Caravaggio - A Morte da Virgem     1.596"
      ]
     },
     "metadata": {},
     "execution_count": 17
    }
   ],
   "metadata": {}
  },
  {
   "cell_type": "markdown",
   "source": [
    "<br>"
   ],
   "metadata": {}
  },
  {
   "cell_type": "markdown",
   "source": [
    "## Vendas Para o Governo"
   ],
   "metadata": {}
  },
  {
   "cell_type": "code",
   "execution_count": 18,
   "source": [
    "GOVERNO = ['49269244000163', '49269244000325', '46392114000125',\r\n",
    "           '51531051000180', '96291141013834', '06265064000109',\r\n",
    "           '00378257000181', '00375114000116']\r\n",
    "\r\n",
    "x = notas.loc[notas['CNPJ'].isin(GOVERNO), ['Emissao', 'CNPJ', 'Cliente',\r\n",
    "                                            'Receita Líquida']]\r\n",
    "\r\n",
    "y = x.groupby(['CNPJ', 'Cliente']).sum()\r\n",
    "y['Receita Líquida'] = y['Receita Líquida'].map(\r\n",
    "    lambda x: '{:10,.2f}'.format(x).replace(',', '#').format(x).replace('.', ',').format(x).replace('#', '.'))\r\n",
    "y\r\n"
   ],
   "outputs": [
    {
     "output_type": "execute_result",
     "data": {
      "text/html": [
       "<div>\n",
       "<style scoped>\n",
       "    .dataframe tbody tr th:only-of-type {\n",
       "        vertical-align: middle;\n",
       "    }\n",
       "\n",
       "    .dataframe tbody tr th {\n",
       "        vertical-align: top;\n",
       "    }\n",
       "\n",
       "    .dataframe thead th {\n",
       "        text-align: right;\n",
       "    }\n",
       "</style>\n",
       "<table border=\"1\" class=\"dataframe\">\n",
       "  <thead>\n",
       "    <tr style=\"text-align: right;\">\n",
       "      <th></th>\n",
       "      <th></th>\n",
       "      <th>Receita Líquida</th>\n",
       "    </tr>\n",
       "    <tr>\n",
       "      <th>CNPJ</th>\n",
       "      <th>Cliente</th>\n",
       "      <th></th>\n",
       "    </tr>\n",
       "  </thead>\n",
       "  <tbody>\n",
       "    <tr>\n",
       "      <th>00375114000116</th>\n",
       "      <th>DEFENSORIA PUBLICA DA UNIAO</th>\n",
       "      <td>35.966,98</td>\n",
       "    </tr>\n",
       "    <tr>\n",
       "      <th>00378257000181</th>\n",
       "      <th>FUNDO NACIONAL DE DESENVOLVIMENTO DA EDUCACAO - FNDE</th>\n",
       "      <td>3.700.550,35</td>\n",
       "    </tr>\n",
       "    <tr>\n",
       "      <th>06265064000109</th>\n",
       "      <th>GM QUALITY COMERCIO LTDA</th>\n",
       "      <td>218.457,46</td>\n",
       "    </tr>\n",
       "    <tr>\n",
       "      <th>46392114000125</th>\n",
       "      <th>Secretaria Municipal De Educacao</th>\n",
       "      <td>162.692,20</td>\n",
       "    </tr>\n",
       "    <tr>\n",
       "      <th>49269244000163</th>\n",
       "      <th>Sao Paulo Secretaria Municipal De Cultura</th>\n",
       "      <td>31.828,35</td>\n",
       "    </tr>\n",
       "    <tr>\n",
       "      <th>49269244000325</th>\n",
       "      <th>SECRETARIA MUNICIPAL DE CULTURA</th>\n",
       "      <td>21.905,65</td>\n",
       "    </tr>\n",
       "    <tr>\n",
       "      <th>51531051000180</th>\n",
       "      <th>Secretaria de Estado da Cultura</th>\n",
       "      <td>0,00</td>\n",
       "    </tr>\n",
       "    <tr>\n",
       "      <th>96291141013834</th>\n",
       "      <th>SECRETARIA DA ADMINISTRACAO PENITENCIARIA</th>\n",
       "      <td>0,00</td>\n",
       "    </tr>\n",
       "  </tbody>\n",
       "</table>\n",
       "</div>"
      ],
      "text/plain": [
       "                                                        Receita Líquida\n",
       "CNPJ           Cliente                                                 \n",
       "00375114000116 DEFENSORIA PUBLICA DA UNIAO                    35.966,98\n",
       "00378257000181 FUNDO NACIONAL DE DESENVOLVIMENTO DA ...    3.700.550,35\n",
       "06265064000109 GM QUALITY COMERCIO LTDA                      218.457,46\n",
       "46392114000125 Secretaria Municipal De Educacao              162.692,20\n",
       "49269244000163 Sao Paulo Secretaria Municipal De Cul...       31.828,35\n",
       "49269244000325 SECRETARIA MUNICIPAL DE CULTURA                21.905,65\n",
       "51531051000180 Secretaria de Estado da Cultura                     0,00\n",
       "96291141013834 SECRETARIA DA ADMINISTRACAO PENITENCI...            0,00"
      ]
     },
     "metadata": {},
     "execution_count": 18
    }
   ],
   "metadata": {}
  },
  {
   "cell_type": "code",
   "execution_count": 19,
   "source": [
    "x = x.groupby(pd.Grouper(key='Emissao', freq='MS')).sum()\r\n",
    "\r\n",
    "x = x.loc[x['Receita Líquida'] != 0, ]\r\n",
    "x['Receita Líquida'] = x['Receita Líquida'].map(\r\n",
    "    lambda x: '{:10,.2f}'.format(x).replace(',', '#')\r\n",
    "    .replace('.', ',').replace('#', '.'))\r\n",
    "x"
   ],
   "outputs": [
    {
     "output_type": "execute_result",
     "data": {
      "text/html": [
       "<div>\n",
       "<style scoped>\n",
       "    .dataframe tbody tr th:only-of-type {\n",
       "        vertical-align: middle;\n",
       "    }\n",
       "\n",
       "    .dataframe tbody tr th {\n",
       "        vertical-align: top;\n",
       "    }\n",
       "\n",
       "    .dataframe thead th {\n",
       "        text-align: right;\n",
       "    }\n",
       "</style>\n",
       "<table border=\"1\" class=\"dataframe\">\n",
       "  <thead>\n",
       "    <tr style=\"text-align: right;\">\n",
       "      <th></th>\n",
       "      <th>Receita Líquida</th>\n",
       "    </tr>\n",
       "    <tr>\n",
       "      <th>Emissao</th>\n",
       "      <th></th>\n",
       "    </tr>\n",
       "  </thead>\n",
       "  <tbody>\n",
       "    <tr>\n",
       "      <th>2017-01-01</th>\n",
       "      <td>14.300,65</td>\n",
       "    </tr>\n",
       "    <tr>\n",
       "      <th>2017-11-01</th>\n",
       "      <td>21.905,65</td>\n",
       "    </tr>\n",
       "    <tr>\n",
       "      <th>2019-01-01</th>\n",
       "      <td>148.391,55</td>\n",
       "    </tr>\n",
       "    <tr>\n",
       "      <th>2019-02-01</th>\n",
       "      <td>2.235.936,24</td>\n",
       "    </tr>\n",
       "    <tr>\n",
       "      <th>2019-04-01</th>\n",
       "      <td>22.560,00</td>\n",
       "    </tr>\n",
       "    <tr>\n",
       "      <th>2019-07-01</th>\n",
       "      <td>31.828,35</td>\n",
       "    </tr>\n",
       "    <tr>\n",
       "      <th>2019-10-01</th>\n",
       "      <td>913.186,82</td>\n",
       "    </tr>\n",
       "    <tr>\n",
       "      <th>2019-11-01</th>\n",
       "      <td>65.765,08</td>\n",
       "    </tr>\n",
       "    <tr>\n",
       "      <th>2019-12-01</th>\n",
       "      <td>-2.803,32</td>\n",
       "    </tr>\n",
       "    <tr>\n",
       "      <th>2020-02-01</th>\n",
       "      <td>-2.803,32</td>\n",
       "    </tr>\n",
       "    <tr>\n",
       "      <th>2020-10-01</th>\n",
       "      <td>468.708,85</td>\n",
       "    </tr>\n",
       "    <tr>\n",
       "      <th>2020-12-01</th>\n",
       "      <td>35.966,98</td>\n",
       "    </tr>\n",
       "    <tr>\n",
       "      <th>2021-02-01</th>\n",
       "      <td>218.457,46</td>\n",
       "    </tr>\n",
       "  </tbody>\n",
       "</table>\n",
       "</div>"
      ],
      "text/plain": [
       "           Receita Líquida\n",
       "Emissao                   \n",
       "2017-01-01       14.300,65\n",
       "2017-11-01       21.905,65\n",
       "2019-01-01      148.391,55\n",
       "2019-02-01    2.235.936,24\n",
       "2019-04-01       22.560,00\n",
       "2019-07-01       31.828,35\n",
       "2019-10-01      913.186,82\n",
       "2019-11-01       65.765,08\n",
       "2019-12-01       -2.803,32\n",
       "2020-02-01       -2.803,32\n",
       "2020-10-01      468.708,85\n",
       "2020-12-01       35.966,98\n",
       "2021-02-01      218.457,46"
      ]
     },
     "metadata": {},
     "execution_count": 19
    }
   ],
   "metadata": {}
  },
  {
   "cell_type": "code",
   "execution_count": 20,
   "source": [
    "del x, y, z, a, val, n, pos, txt"
   ],
   "outputs": [],
   "metadata": {}
  },
  {
   "cell_type": "markdown",
   "source": [
    "<br>"
   ],
   "metadata": {}
  },
  {
   "cell_type": "markdown",
   "source": [
    "## Pré-Venda"
   ],
   "metadata": {}
  },
  {
   "cell_type": "code",
   "execution_count": 21,
   "source": [
    "mov = pd.read_pickle(PATH + 'movimentos.pkl')\r\n",
    "x = mov.loc[mov['cfo_descri'] == 'VENDA / PRE-VENDA'].groupby(pd.Grouper(key='emissa', freq='MS'))['total'].sum().rename('Pré-Venda', axis=1)\r\n",
    "x = x.map(lambda x: '{:10,.2f}'.format(x).replace(',', '#')\r\n",
    "      .replace('.', ',').replace('#', '.'))\r\n",
    "x = pd.DataFrame(x)\r\n",
    "x.index.names = ['Mês']\r\n",
    "x"
   ],
   "outputs": [
    {
     "output_type": "execute_result",
     "data": {
      "text/html": [
       "<div>\n",
       "<style scoped>\n",
       "    .dataframe tbody tr th:only-of-type {\n",
       "        vertical-align: middle;\n",
       "    }\n",
       "\n",
       "    .dataframe tbody tr th {\n",
       "        vertical-align: top;\n",
       "    }\n",
       "\n",
       "    .dataframe thead th {\n",
       "        text-align: right;\n",
       "    }\n",
       "</style>\n",
       "<table border=\"1\" class=\"dataframe\">\n",
       "  <thead>\n",
       "    <tr style=\"text-align: right;\">\n",
       "      <th></th>\n",
       "      <th>Pré-Venda</th>\n",
       "    </tr>\n",
       "    <tr>\n",
       "      <th>Mês</th>\n",
       "      <th></th>\n",
       "    </tr>\n",
       "  </thead>\n",
       "  <tbody>\n",
       "    <tr>\n",
       "      <th>2021-03-01</th>\n",
       "      <td>2.689,54</td>\n",
       "    </tr>\n",
       "    <tr>\n",
       "      <th>2021-04-01</th>\n",
       "      <td>7.055,69</td>\n",
       "    </tr>\n",
       "    <tr>\n",
       "      <th>2021-05-01</th>\n",
       "      <td>2.156,93</td>\n",
       "    </tr>\n",
       "    <tr>\n",
       "      <th>2021-06-01</th>\n",
       "      <td>4.068,91</td>\n",
       "    </tr>\n",
       "    <tr>\n",
       "      <th>2021-07-01</th>\n",
       "      <td>6.662,39</td>\n",
       "    </tr>\n",
       "    <tr>\n",
       "      <th>2021-08-01</th>\n",
       "      <td>5.479,08</td>\n",
       "    </tr>\n",
       "    <tr>\n",
       "      <th>2021-09-01</th>\n",
       "      <td>12.985,18</td>\n",
       "    </tr>\n",
       "  </tbody>\n",
       "</table>\n",
       "</div>"
      ],
      "text/plain": [
       "             Pré-Venda\n",
       "Mês                   \n",
       "2021-03-01    2.689,54\n",
       "2021-04-01    7.055,69\n",
       "2021-05-01    2.156,93\n",
       "2021-06-01    4.068,91\n",
       "2021-07-01    6.662,39\n",
       "2021-08-01    5.479,08\n",
       "2021-09-01   12.985,18"
      ]
     },
     "metadata": {},
     "execution_count": 21
    }
   ],
   "metadata": {}
  },
  {
   "cell_type": "code",
   "execution_count": 22,
   "source": [
    "#! jupyter nbconvert --to html  --no-input analise_lancamentos.ipynb --output-dir=C:\\\\Users\\\\cpcle\\\\OneDrive\\\\Documentos\\\\Celso\\\\Python\\\\veneta-custo\\\\html\r\n"
   ],
   "outputs": [],
   "metadata": {}
  }
 ],
 "metadata": {
  "interpreter": {
   "hash": "282e47199a401f1052f61d4497d3f651654375711cd5ccbe0b365a8134ef0751"
  },
  "kernelspec": {
   "name": "python3",
   "display_name": "Python 3.9.6 64-bit ('envvd': venv)"
  },
  "language_info": {
   "codemirror_mode": {
    "name": "ipython",
    "version": 3
   },
   "file_extension": ".py",
   "mimetype": "text/x-python",
   "name": "python",
   "nbconvert_exporter": "python",
   "pygments_lexer": "ipython3",
   "version": "3.9.7"
  },
  "orig_nbformat": 4
 },
 "nbformat": 4,
 "nbformat_minor": 2
}